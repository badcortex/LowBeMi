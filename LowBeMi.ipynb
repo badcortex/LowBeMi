{
  "nbformat": 4,
  "nbformat_minor": 0,
  "metadata": {
    "colab": {
      "provenance": []
    },
    "kernelspec": {
      "name": "python3",
      "display_name": "Python 3"
    },
    "language_info": {
      "name": "python"
    }
  },
  "cells": [
    {
      "cell_type": "code",
      "source": [
        "!pip install scikit-learn-extra\n",
        "!pip install larq larq-compute-engine"
      ],
      "metadata": {
        "id": "9T2vfhHkvicn"
      },
      "execution_count": null,
      "outputs": []
    },
    {
      "cell_type": "code",
      "execution_count": 2,
      "metadata": {
        "id": "H-pxbj29uY-l"
      },
      "outputs": [],
      "source": [
        "import larq_compute_engine as lce\n",
        "import tensorflow_hub as hub\n",
        "import tensorflow as tf\n",
        "import numpy as np\n",
        "import larq as lq\n",
        "\n",
        "from sklearn.preprocessing import LabelBinarizer, MinMaxScaler\n",
        "from sklearn_extra.cluster import KMedoids\n",
        "from skimage.transform import resize\n",
        "from sklearn.utils import shuffle\n",
        "from google.colab import drive"
      ]
    },
    {
      "cell_type": "code",
      "source": [
        "!mkdir -p \"/content/drive/My Drive/LowBeMi\""
      ],
      "metadata": {
        "id": "uP07nj-FPqbo"
      },
      "execution_count": 3,
      "outputs": []
    },
    {
      "cell_type": "code",
      "source": [
        "def clusterSampling(x_train, y_train, imgs_per_class):\n",
        "  \"\"\" Creazione dizionario contenente k immagini per classe campionate utilizzando kMedoids. \"\"\"\n",
        "  train_data = dict.fromkeys(np.unique(y_train))\n",
        "\n",
        "  for k in train_data.keys():\n",
        "    k_filter = np.where(y_train == k)[0]\n",
        "    k_images = x_train[k_filter[0:]]\n",
        "    kmedoids = KMedoids(n_clusters=imgs_per_class).fit(k_images.reshape(len(k_images), -1))\n",
        "    train_data[k] = kmedoids.cluster_centers_.reshape(imgs_per_class, 28, 28)\n",
        "\n",
        "  return train_data"
      ],
      "metadata": {
        "id": "bpQD9qF_8VPW"
      },
      "execution_count": 4,
      "outputs": []
    },
    {
      "cell_type": "code",
      "source": [
        "def printImages(train_data):\n",
        "  \"\"\" Funzione per la visiaulizzazione di ogni prima immagini per ogni classe. \"\"\"\n",
        "  import matplotlib.pyplot as plt\n",
        "\n",
        "  fig, axes = plt.subplots(1, len(train_data))\n",
        "\n",
        "  for idx, (key, images) in enumerate(train_data.items()):\n",
        "      axes[idx].imshow(images[0], cmap='gray')\n",
        "      axes[idx].set_title(f'Class {key}')\n",
        "      axes[idx].axis('off')\n",
        "\n",
        "  plt.tight_layout()\n",
        "  plt.show()"
      ],
      "metadata": {
        "id": "F17pBnsHF4Se"
      },
      "execution_count": 5,
      "outputs": []
    },
    {
      "cell_type": "code",
      "source": [
        "def preprocessImages(input_data, target_size=(8, 8)):\n",
        "    \"\"\" Funzione per normalizzazione e ridimensionamento delle immagini campionate. \"\"\"\n",
        "    preprocessed_data = {}\n",
        "\n",
        "    for label, images in input_data.items():\n",
        "        num_images, height, width = images.shape\n",
        "\n",
        "        flat_images = images.reshape(num_images, -1)\n",
        "        scaler = MinMaxScaler()\n",
        "        normalized_images = scaler.fit_transform(flat_images)\n",
        "\n",
        "        resized_images = []\n",
        "        for i in range(num_images):\n",
        "            image = normalized_images[i].reshape(height, width)\n",
        "            resized_image = resize(image, output_shape=target_size, mode='constant', anti_aliasing=True)\n",
        "            resized_images.append(resized_image)\n",
        "\n",
        "        preprocessed_data[label] = np.array(resized_images)\n",
        "\n",
        "    return preprocessed_data"
      ],
      "metadata": {
        "id": "3ZJxQpq487jG"
      },
      "execution_count": 6,
      "outputs": []
    },
    {
      "cell_type": "code",
      "source": [
        "def getShuffledTrainingData(train_data_dict, i, j, imgs_per_class):\n",
        "  \"\"\" Funzione per la creazione del dataset (i,j) per il training di ogni rete. \"\"\"\n",
        "  train_data = np.concatenate((train_data_dict[i], train_data_dict[j]))\n",
        "  train_labels = np.concatenate(([i] * imgs_per_class, [j] * imgs_per_class))\n",
        "\n",
        "  train_data, train_labels = shuffle(train_data, train_labels)\n",
        "\n",
        "  return train_data, train_labels"
      ],
      "metadata": {
        "id": "904y8cU0rSW6"
      },
      "execution_count": 7,
      "outputs": []
    },
    {
      "cell_type": "code",
      "source": [
        "def BNN(architecture, lr):\n",
        "  \"\"\" Funzione per la creazione di una BNN. \"\"\"\n",
        "  input_layer, h1_layer, h2_layer, output_layer = architecture\n",
        "\n",
        "  model = tf.keras.models.Sequential(\n",
        "      [\n",
        "          tf.keras.layers.Flatten(),\n",
        "          lq.layers.QuantDense(input_layer, kernel_quantizer=\"ste_sign\", kernel_constraint=\"weight_clip\"),\n",
        "          lq.layers.QuantDense(h1_layer, input_quantizer=\"ste_sign\",\n",
        "                              kernel_quantizer=lq.quantizers.SteTern(threshold_value=0.05, ternary_weight_networks=True, clip_value=1.0),\n",
        "                              activation=\"hard_tanh\"),\n",
        "          lq.layers.QuantDense(h2_layer, input_quantizer=\"ste_sign\",\n",
        "                              kernel_quantizer=lq.quantizers.SteTern(threshold_value=0.05, ternary_weight_networks=True, clip_value=1.0),\n",
        "                              activation=\"hard_tanh\"),\n",
        "          lq.layers.QuantDense(output_layer, input_quantizer=\"ste_sign\",\n",
        "                              kernel_quantizer=lq.quantizers.SteTern(threshold_value=0.05, ternary_weight_networks=True, clip_value=1.0),\n",
        "                              activation=\"hard_tanh\")\n",
        "      ]\n",
        "  )\n",
        "\n",
        "  opt = tf.keras.optimizers.Adam(learning_rate=lr)\n",
        "  model.compile(optimizer=opt,\n",
        "                loss='squared_hinge',\n",
        "                metrics=['accuracy'])\n",
        "\n",
        "  return model"
      ],
      "metadata": {
        "id": "yJAtA0WckJ5r"
      },
      "execution_count": 8,
      "outputs": []
    },
    {
      "cell_type": "code",
      "source": [
        "def trainModels(train_data_dict, imgs_per_class):\n",
        "  \"\"\" Funzione per l'addestramento delle singole BNN. \"\"\"\n",
        "  classes = train_data_dict.keys()\n",
        "\n",
        "  for i in range(len(classes)):\n",
        "    for j in range(i+1, len(classes)):\n",
        "\n",
        "      print(f\"BNN {i}{j}\")\n",
        "\n",
        "      # Crezione dataset (i,j) per addestrare la BNN(i,j)\n",
        "      train_data, train_labels_ij = getShuffledTrainingData(train_data_dict, i, j, imgs_per_class)\n",
        "\n",
        "      # Encoding della label\n",
        "      enc = LabelBinarizer()\n",
        "      enc.fit(np.unique(train_labels_ij))\n",
        "      encoded_labels = enc.transform(train_labels_ij)\n",
        "\n",
        "      earlystopping = tf.keras.callbacks.EarlyStopping(monitor=\"loss\",\n",
        "                                                      mode=\"auto\", patience=1,\n",
        "                                                      restore_best_weights=True)\n",
        "\n",
        "      # Creazione e addestramento della BNN(i,j)\n",
        "      model = BNN(architecture, lr)\n",
        "      model.fit(train_data, encoded_labels.flatten(), epochs=5, batch_size=1, callbacks=[earlystopping])\n",
        "\n",
        "      # Salvataggio del modello in formato .tflite\n",
        "      converter = tf.lite.TFLiteConverter.from_keras_model(model)\n",
        "      tflite_model = converter.convert()\n",
        "      with open(f\"/content/drive/My Drive/LowBeMi/model{i}{j}.tflite\", \"wb\") as f:\n",
        "        f.write(tflite_model)"
      ],
      "metadata": {
        "id": "efWkmmgMKw22"
      },
      "execution_count": 9,
      "outputs": []
    },
    {
      "cell_type": "code",
      "source": [
        "def predictSingleModel(i, j, test_data):\n",
        "  bnn_model = tf.lite.Interpreter(f\"/content/drive/My Drive/LowBeMi/model{i}{j}.tflite\")\n",
        "\n",
        "  # Allocazione della momeria per ogni modello\n",
        "  bnn_model.allocate_tensors()\n",
        "\n",
        "  # Indici per tensori di input e output\n",
        "  bnn_model_input_index = bnn_model.get_input_details()[0][\"index\"]\n",
        "  bnn_model_output_index = bnn_model.get_output_details()[0][\"index\"]\n",
        "\n",
        "  bnn_model_predictions = []\n",
        "\n",
        "  # Run each model's interpreter for each value and store the results in arrays\n",
        "  for x_value in x_test:\n",
        "    # Create a 2D tensor wrapping the current x value\n",
        "    x_value_tensor = tf.convert_to_tensor([x_value], dtype=np.float32)\n",
        "    # Write the value to the input tensor\n",
        "    bnn_model.set_tensor(bnn_model_input_index, x_value_tensor)\n",
        "    # Run inference\n",
        "    bnn_model.invoke()\n",
        "    # Read the prediction from the output tensor\n",
        "    bnn_model_predictions.append(bnn_model.get_tensor(bnn_model_output_index)[0])\n",
        "\n",
        "  threshold = 0.05\n",
        "  for p in bnn_model_predictions:\n",
        "    if p[0] > threshold:\n",
        "      p[0] = 1\n",
        "    elif p[0] < -threshold:\n",
        "      p[0] = -1\n",
        "    else:\n",
        "      p[0] = np.nan\n",
        "\n",
        "  enc = LabelBinarizer()\n",
        "  enc.fit((i, j))\n",
        "  predicted_labels = enc.inverse_transform(np.array(bnn_model_predictions))\n",
        "\n",
        "  return predicted_labels"
      ],
      "metadata": {
        "id": "oqSLLxBIMiNj"
      },
      "execution_count": 10,
      "outputs": []
    },
    {
      "cell_type": "code",
      "source": [
        "def predictEnsemble(classes, test_data):\n",
        "  n_models = 0\n",
        "\n",
        "  for i in range(len(classes)):\n",
        "    for j in range(i+1, len(classes)):\n",
        "      n_models += 1\n",
        "\n",
        "  single_preds_matrix = np.zeros((n_models, len(test_data)))\n",
        "\n",
        "  k = 0\n",
        "  for i in range(len(classes)):\n",
        "    for j in range(i+1, len(classes)):\n",
        "      single_preds_matrix[k, :] = predictSingleModel(i, j, test_data)\n",
        "      k += 1\n",
        "\n",
        "  ensemble_preds = []\n",
        "\n",
        "  for k in range(len(test_data)):\n",
        "    preds, counts = np.unique(single_preds_matrix[:, k], return_counts=True)\n",
        "    poll = dict(zip(preds, counts))\n",
        "    ensemble_preds.append(max(poll, key = lambda x: poll[x]))\n",
        "\n",
        "  return ensemble_preds"
      ],
      "metadata": {
        "id": "K_lZAxbzpPUN"
      },
      "execution_count": 11,
      "outputs": []
    },
    {
      "cell_type": "code",
      "source": [
        "# Download dataset MNIST\n",
        "(train_images, train_labels), (test_images, test_labels) = tf.keras.datasets.mnist.load_data()\n",
        "\n",
        "# Reshape immagini\n",
        "train_images = train_images.reshape((60000, 28, 28, 1))\n",
        "test_images = test_images.reshape((10000, 28, 28, 1))"
      ],
      "metadata": {
        "id": "O8ye4RdOu72x"
      },
      "execution_count": null,
      "outputs": []
    },
    {
      "cell_type": "code",
      "source": [
        "k = 80                        # Numero di immagini per classe\n",
        "lr = 0.01                     # Learning rate\n",
        "architecture = [64, 4, 4, 1]  # Architetture delle reti dell'ensemble\n",
        "\n",
        "# Campionamento delle k immagini per classe tramite kMedoids\n",
        "data = clusterSampling(train_images, train_labels, k)\n",
        "\n",
        "# Normalizzazione e ridimensionamento delle immagini\n",
        "data = preprocessImages(data)"
      ],
      "metadata": {
        "id": "nhU1lEnItojn"
      },
      "execution_count": 13,
      "outputs": []
    },
    {
      "cell_type": "code",
      "source": [
        "# Visualizzazione della prima immagine di ogni classe\n",
        "printImages(data)"
      ],
      "metadata": {
        "id": "Qm_mTfy3GGeC",
        "colab": {
          "base_uri": "https://localhost:8080/",
          "height": 106
        },
        "outputId": "d198af90-8a22-4a18-fc7c-f0ef040b7e4b"
      },
      "execution_count": 14,
      "outputs": [
        {
          "output_type": "display_data",
          "data": {
            "text/plain": [
              "<Figure size 640x480 with 10 Axes>"
            ],
            "image/png": "[encoded data removed]"
          },
          "metadata": {}
        }
      ]
    },
    {
      "cell_type": "code",
      "source": [
        "# Training dei modelli\n",
        "trainModels(data, k)"
      ],
      "metadata": {
        "id": "Cdz784SLcp-R"
      },
      "execution_count": null,
      "outputs": []
    },
    {
      "cell_type": "code",
      "source": [
        "# Conversione dei modelli salvati per\n",
        "%%bash\n",
        "\n",
        "for ((i=0; i<10; i++)); do\n",
        "    for ((j=i+1; j<10; j++)); do\n",
        "        xxd -i \"/content/drive/My Drive/LowBeMi/model${i}${j}.tflite\" > \"/content/drive/My Drive/LowBeMi/bnn${i}${j}.cc\"\n",
        "    done\n",
        "done"
      ],
      "metadata": {
        "id": "B3rmPZA-noax"
      },
      "execution_count": 16,
      "outputs": []
    },
    {
      "cell_type": "code",
      "source": [
        "x_test = [data[0][9], data[1][0], data[2][0], data[3][1], data[4][1], data[5][2],\n",
        "          data[6][2], data[7][3], data[8][3], data[9][4]]"
      ],
      "metadata": {
        "id": "p3Axmn9Ylfey"
      },
      "execution_count": 50,
      "outputs": []
    },
    {
      "cell_type": "code",
      "source": [
        "p = predictEnsemble(data.keys(), x_test)"
      ],
      "metadata": {
        "id": "4Tyj_w23zX5j"
      },
      "execution_count": 51,
      "outputs": []
    }
  ]
}